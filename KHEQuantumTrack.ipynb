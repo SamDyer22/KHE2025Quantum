{
 "cells": [
  {
   "cell_type": "markdown",
   "id": "5a4c6ada-bda0-45e4-99e5-f9660408e55a",
   "metadata": {},
   "source": [
    "Welcome to the Quantum track of KHE 2025! We are excited to welcome you into the quantum computing fray. Some of you may have extensive quantum experience; others will have next to none. Our objective for this challenge is to provide a challenging and exciting track for both veterans and novices alike. We want everyone to learn more about QC in the next 24 hours."
   ]
  },
  {
   "cell_type": "markdown",
   "id": "df3d6786-8b10-49c6-a030-745c37a2fc74",
   "metadata": {},
   "source": [
    "The basis of quantum computing, the qubit, is a difficult topic to understand. So, your challenge is to make that difficult topic a little easier to understand, through everyone's favorite way to learn... games."
   ]
  },
  {
   "cell_type": "markdown",
   "id": "edbdfd5f-a6dd-414e-9342-7dffba6074e7",
   "metadata": {},
   "source": [
    "A basic version of this can be seen in Sherbrooke Universities \"Quantum Enigmas\", with the easiest example being the first enigma. The two door problem. Imagine you want up to two doors, each with someone, a \"guardian\", standing in front of the door, and one door has a prize behind it. You know that one of the guardians is always lying and one is always telling the truth. What question could you ask that gets the right answer every time?"
   ]
  },
  {
   "cell_type": "markdown",
   "id": "15897e77-2249-44e2-8312-e81bfce59cfc",
   "metadata": {},
   "source": [
    "The question to ask is: Which door would the other guardian tell me not to open? If that doesn't initially make sense, run through different scenarios in your head, what happens if the prize is behind the left door, and the guardian who lies is in front of it, what if that guardian is telling the truth? You should get the correct door to open every time."
   ]
  },
  {
   "cell_type": "markdown",
   "id": "3a3ce61b-3e6d-4ed9-941e-ee769beee9d4",
   "metadata": {},
   "source": [
    "The quantum circuit implementing this is shown below, try following along the circuit see how it matches up with the answer above. Does it follow the same logic as you? If you're new to quantum computing, first look up what each gate does, and watch the Sherbrooke University video, then try it on your own."
   ]
  },
  {
   "cell_type": "code",
   "execution_count": 1,
   "id": "4a54ed87-7d1a-4de7-a817-a30b5393efda",
   "metadata": {},
   "outputs": [],
   "source": [
    "from qiskit import QuantumRegister, ClassicalRegister, QuantumCircuit\n",
    "from numpy import pi"
   ]
  },
  {
   "cell_type": "code",
   "execution_count": 2,
   "id": "aee2fbf9-21cd-43eb-9576-44f2be9d15b1",
   "metadata": {},
   "outputs": [
    {
     "name": "stdout",
     "output_type": "stream",
     "text": [
      "     ┌───┐                         ┌───┐          ┌───┐     \n",
      "q_0: ┤ H ├──■───────────────────X──┤ X ├──────────┤ X ├─────\n",
      "     └───┘┌─┴─┐┌───┐     ┌───┐  │  ├───┤┌───┐     └─┬─┘     \n",
      "q_1: ─────┤ X ├┤ X ├─────┤ X ├──X──┤ X ├┤ X ├───────┼───────\n",
      "     ┌───┐└───┘└─┬─┘┌───┐└─┬─┘┌───┐└───┘└─┬─┘┌───┐  │  ┌───┐\n",
      "q_2: ┤ H ├───────■──┤ X ├──■──┤ X ├───────■──┤ X ├──■──┤ X ├\n",
      "     └───┘          └───┘     └───┘          └───┘     └───┘\n"
     ]
    }
   ],
   "source": [
    "### In this circuit, the two guardians are represented by qubits 0 and 1, and the lie is qubit 2. \n",
    "### An output of 0 is the right door, and an output of 1 is the left door\n",
    "\n",
    "qreg_q = QuantumRegister(3, 'q')\n",
    "\n",
    "circuit = QuantumCircuit(qreg_q)\n",
    "\n",
    "circuit.h(qreg_q[0])\n",
    "circuit.h(qreg_q[2])\n",
    "circuit.cx(qreg_q[0], qreg_q[1])\n",
    "circuit.cx(qreg_q[2], qreg_q[1])\n",
    "circuit.x(qreg_q[2])\n",
    "circuit.cx(qreg_q[2], qreg_q[1])\n",
    "circuit.x(qreg_q[2])\n",
    "circuit.swap(qreg_q[0], qreg_q[1])\n",
    "circuit.x(qreg_q[0])\n",
    "circuit.x(qreg_q[1])\n",
    "circuit.cx(qreg_q[2], qreg_q[1])\n",
    "circuit.x(qreg_q[2])\n",
    "circuit.cx(qreg_q[2], qreg_q[0])\n",
    "circuit.x(qreg_q[2])\n",
    "\n",
    "print(circuit)"
   ]
  },
  {
   "cell_type": "markdown",
   "id": "79ac99bb-a6a8-4a18-bfd1-cc4bc7277cf6",
   "metadata": {},
   "source": [
    "Your challenge is as follows. Create an interactive game, logic puzzles, challenge or anything you can think of, using quantum computing, the more creative the better. \n",
    "\n",
    "The judging criteria is as follows: 50% for your idea, 50% for your execution.\n",
    "\n",
    "Reminder - No previous quantum knowledge is expected for this challenge for a reason, if your game is only understandable to someone with extensive quantum knowledge, it's not a very good game. The players of your game should be able to pick up the game quickly, and learn about elements of quantum computing as they go."
   ]
  },
  {
   "cell_type": "markdown",
   "id": "52c6feb5-5ea9-4b3d-9eb3-8ed0b0f6dab0",
   "metadata": {},
   "source": [
    "You will fork this repository to work on your solutions. You will submit inside `submissions/your_team_name`. You will submit your QASM code, your presentation, and a technical write-up that explains your problem and how your circuit solves it (essentially, turn your presentation into a write-up). "
   ]
  }
 ],
 "metadata": {
  "kernelspec": {
   "display_name": "Python 3 (ipykernel)",
   "language": "python",
   "name": "python3"
  },
  "language_info": {
   "codemirror_mode": {
    "name": "ipython",
    "version": 3
   },
   "file_extension": ".py",
   "mimetype": "text/x-python",
   "name": "python",
   "nbconvert_exporter": "python",
   "pygments_lexer": "ipython3",
   "version": "3.10.15"
  }
 },
 "nbformat": 4,
 "nbformat_minor": 5
}
